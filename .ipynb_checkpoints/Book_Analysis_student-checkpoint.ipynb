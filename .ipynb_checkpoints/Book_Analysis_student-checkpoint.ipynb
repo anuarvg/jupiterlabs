{
 "cells": [
  {
   "cell_type": "markdown",
   "id": "a80e605a-e468-44f2-b95a-63247b0dac12",
   "metadata": {},
   "source": [
    "# Load the book"
   ]
  },
  {
   "cell_type": "code",
   "execution_count": 80,
   "id": "25eccdce-1a76-4031-9fb1-14e711ab3f29",
   "metadata": {},
   "outputs": [],
   "source": [
    "with open(\"data_analysis/miracle_in_the_andes.txt\", \"r\") as file:\n",
    "    book = file.read()"
   ]
  },
  {
   "cell_type": "markdown",
   "id": "d643f789-f267-4859-b8eb-eeeafc8b7740",
   "metadata": {},
   "source": [
    "# Extrae los parafos donde es utilizada la palabra \"love\""
   ]
  },
  {
   "cell_type": "code",
   "execution_count": 56,
   "id": "900a245e-a488-4593-90ff-f92eea6fd941",
   "metadata": {},
   "outputs": [
    {
     "data": {
      "text/plain": [
       "['To me, this is the essence of rugby. No other sport gives you such an intense sense of selflessness and unified purpose. I believe this is why rugby players all over the world feel such a passion for the game and such a feeling of brotherhood. As a young man, of course, I could not put these things into words, but I knew, and my teammates knew, that there was something special about the game, and under the guidance of the Christian Brothers we developed a passionate love for the sport that shaped our friendships and our lives. For eight years we played our hearts out for the Christian Brothers—a brotherhood of young boys with Latin names, playing a game with deep Anglo roots under Uruguay’s sunny skies, and proudly wearing the bright green shamrock on our uniforms. The game became so much a part of our lives, in fact, that when we graduated from Stella Maris at the age of sixteen, many of us could not bear the thought that our playing days were over. Our salvation came in the form of the Old Christians Club, a private rugby team formed in 1965 by previous alumni of the Stella Maris rugby program to give Stella Maris ruggers a chance to continue playing the game after our school years ended.',\n",
       " 'There were others—Alexis Hounie, Gastón Costemalle, Daniel Shaw—all of them great players and all of them my friends. But my oldest friend was Guido Magri. He and I had met on my first day at the Stella Maris School—I was eight years old and Guido was one year older—and we had been inseparable ever since. Guido and I grew up together, playing soccer and sharing a love of motorcycles, cars, and auto racing. When I was fifteen we both had mopeds that we had modified in silly ways—removing the mufflers, turn signals, and fenders—and we would ride them to Las Delicias, a famous ice cream parlor in our neighborhood, where we would drool over the girls from the nearby School Sagrado Corazón, hoping to impress them with our souped-up scooters. Guido was a dependable friend, with a good sense of humor and an easy laugh. He was also an outstanding scrum half, as quick and smart as a fox, with good hands and great courage. Under the guidance of the Christian Brothers, both of us grew to love the game of rugby with a consuming passion. As seasons passed we worked hard to improve our skills, and by the time I was fifteen we had each earned a spot on the Stella Maris First XV, the team’s starting lineup. After graduation, both of us went on to join the Old Christians and spent several happy seasons pursuing the high-octane social life of young rugby players. That rowdiness came to an abrupt end for Guido in 1969, when he met and fell in love with the beautiful daughter of a Chilean diplomat. She was now his fiancée, and he was happy to behave himself for her sake.']"
      ]
     },
     "execution_count": 56,
     "metadata": {},
     "output_type": "execute_result"
    }
   ],
   "source": [
    "import re\n",
    "pattern = re.compile(\"[^\\n]+love[^\\n]+\")\n",
    "parrafos = re.findall(pattern, book)\n",
    "parrafos[:2]"
   ]
  },
  {
   "cell_type": "markdown",
   "id": "8c060163-7ccf-42ce-8ca2-4f374edddde8",
   "metadata": {},
   "source": [
    "# Extraer los titulos de los capitulos"
   ]
  },
  {
   "cell_type": "code",
   "execution_count": 74,
   "id": "1cf6a5fe-6361-4a6f-a761-094d78d77c04",
   "metadata": {},
   "outputs": [
    {
     "data": {
      "text/plain": [
       "['Before',\n",
       " 'Everything Precious',\n",
       " 'A Promise',\n",
       " 'Breathe Once More',\n",
       " 'Abandoned',\n",
       " 'Tomb',\n",
       " 'East',\n",
       " 'The Opposite of Death',\n",
       " 'I See a Man',\n",
       " 'After']"
      ]
     },
     "execution_count": 74,
     "metadata": {},
     "output_type": "execute_result"
    }
   ],
   "source": [
    "pattern = re.compile(\"[a-zA-Z ,]+\\n\\n\")\n",
    "titulos = re.findall(pattern, book)\n",
    "titulos = [item.strip(\"\\n\\n\") for item in titulos]\n",
    "titulos"
   ]
  },
  {
   "cell_type": "markdown",
   "id": "4d747360-75ec-44af-9a34-594640ff647a",
   "metadata": {},
   "source": [
    "# Funcion que encuentra la ocurrencia de cualquier palabra"
   ]
  },
  {
   "cell_type": "code",
   "execution_count": 85,
   "id": "9c586087-3de9-440e-a610-21e7241f31de",
   "metadata": {},
   "outputs": [],
   "source": [
    "def find(word, book):\n",
    "    pattern = re.compile(\"[a-zA-Z]+\")\n",
    "    findings = re.findall(pattern, book.lower())\n",
    "    #findings = set(re.findall(pattern, book.lower()))\n",
    "    #exist = word in findings\n",
    "    d = {}\n",
    "    for item in findings:\n",
    "        if item in d.keys():\n",
    "            d[item] = d[item] + 1\n",
    "        else:\n",
    "            d[item] = 1\n",
    "    #if exist:\n",
    "        #return f\"the {word} found\"\n",
    "    #else:\n",
    "        #return f\"the {word} does not exists\"\n",
    "    try:\n",
    "        return d[word]\n",
    "    except:\n",
    "        return f\"El libro no tiene la palabra '{word}'\""
   ]
  },
  {
   "cell_type": "markdown",
   "id": "39c8e243-f1ab-43d2-9dd3-358be42aed4c",
   "metadata": {},
   "source": [
    "# Llama la funcion de busqueda"
   ]
  },
  {
   "cell_type": "code",
   "execution_count": 86,
   "id": "1b10894d-378a-4005-83eb-7a3e8512f4b5",
   "metadata": {},
   "outputs": [
    {
     "data": {
      "text/plain": [
       "11"
      ]
     },
     "execution_count": 86,
     "metadata": {},
     "output_type": "execute_result"
    }
   ],
   "source": [
    "find(\"chapter\", book)"
   ]
  },
  {
   "cell_type": "code",
   "execution_count": 87,
   "id": "2127f9ed-b662-4cc3-97d6-e845c2b0e222",
   "metadata": {},
   "outputs": [
    {
     "data": {
      "text/plain": [
       "\"El libro no tiene la palabra 'puerco'\""
      ]
     },
     "execution_count": 87,
     "metadata": {},
     "output_type": "execute_result"
    }
   ],
   "source": [
    "find(\"puerco\", book)"
   ]
  }
 ],
 "metadata": {
  "kernelspec": {
   "display_name": "Python 3 (ipykernel)",
   "language": "python",
   "name": "python3"
  },
  "language_info": {
   "codemirror_mode": {
    "name": "ipython",
    "version": 3
   },
   "file_extension": ".py",
   "mimetype": "text/x-python",
   "name": "python",
   "nbconvert_exporter": "python",
   "pygments_lexer": "ipython3",
   "version": "3.11.3"
  }
 },
 "nbformat": 4,
 "nbformat_minor": 5
}
